{
 "cells": [
  {
   "cell_type": "code",
   "execution_count": 7,
   "id": "ff6ce786",
   "metadata": {},
   "outputs": [
    {
     "data": {
      "text/plain": [
       "0.75"
      ]
     },
     "execution_count": 7,
     "metadata": {},
     "output_type": "execute_result"
    }
   ],
   "source": [
    "#measuring the accuracy of your model\n",
    "\n",
    "import pandas as pd\n",
    "from sklearn.tree import DecisionTreeClassifier  #class to implement decision tree algorithm\n",
    "from sklearn.model_selection import train_test_split  #call function to train, test and split the dataset\n",
    "from sklearn.metrics import accuracy_score    #call function for accuracy score.\n",
    "       \n",
    "df_music = pd.read_csv('music.csv')           #read the csv file into a data frame.\n",
    "X = df_music.drop(columns=['genre'])          # x represents the input columns\n",
    "y = df_music['genre']                         # y represents the output columns  \n",
    "\n",
    "#allocate 70-80% for training and 20-30% for testing\n",
    "X_train, X_test, y_train, y_test = train_test_split(X, y, test_size = 0.2) \n",
    "\n",
    "#first two variables are the input sets for training and testing. Last two are the output sets for training and testing.\n",
    "\n",
    "model = DecisionTreeClassifier()    #create instance of decision tree classifier (model).\n",
    "model.fit(X_train, y_train)         #Train the model. Function takes two datasets namely, Input set and output set.\n",
    "predictions = model.predict(X_test) #Ask it to make predictions. Pass dataset that contains input values for testing.\n",
    "\n",
    "score =accuracy_score(y_test,predictions) #function is called to test the accuracy of the predictions.\n",
    "score\n",
    "\n"
   ]
  },
  {
   "cell_type": "code",
   "execution_count": null,
   "id": "0f1be38a",
   "metadata": {},
   "outputs": [],
   "source": []
  },
  {
   "cell_type": "code",
   "execution_count": null,
   "id": "8542bac0",
   "metadata": {},
   "outputs": [],
   "source": []
  }
 ],
 "metadata": {
  "kernelspec": {
   "display_name": "Python 3 (ipykernel)",
   "language": "python",
   "name": "python3"
  },
  "language_info": {
   "codemirror_mode": {
    "name": "ipython",
    "version": 3
   },
   "file_extension": ".py",
   "mimetype": "text/x-python",
   "name": "python",
   "nbconvert_exporter": "python",
   "pygments_lexer": "ipython3",
   "version": "3.9.13"
  }
 },
 "nbformat": 4,
 "nbformat_minor": 5
}
